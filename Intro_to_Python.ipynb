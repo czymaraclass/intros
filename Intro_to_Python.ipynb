{
  "nbformat": 4,
  "nbformat_minor": 0,
  "metadata": {
    "colab": {
      "provenance": [],
      "include_colab_link": true
    },
    "kernelspec": {
      "name": "python3",
      "display_name": "Python 3"
    },
    "language_info": {
      "name": "python"
    }
  },
  "cells": [
    {
      "cell_type": "markdown",
      "metadata": {
        "id": "view-in-github",
        "colab_type": "text"
      },
      "source": [
        "<a href=\"https://colab.research.google.com/github/czymaraclass/intros/blob/main/Intro_to_Python.ipynb\" target=\"_parent\"><img src=\"https://colab.research.google.com/assets/colab-badge.svg\" alt=\"Open In Colab\"/></a>"
      ]
    },
    {
      "cell_type": "markdown",
      "source": [
        "# Intro to Python\n",
        "\n",
        "This intro to Python is a translation of the R intro provided [here](https://colab.research.google.com/github/czymara/czymara.github.io/blob/master/_teaching/Intro_to_R.ipynb). Thus, it is tailored for the transition from R to Python.\n",
        "\n",
        "## Math operators\n",
        "\n",
        "- Addition `+`\n",
        "- Subtraction `-`\n",
        "- Multiplication `*`\n",
        "- Division `/`\n",
        "- Exponentiation `^`\n",
        "- Exponential `exp()`\n",
        "- Logarithm `log()`\n",
        "- And everything else..."
      ],
      "metadata": {
        "id": "YoLQtOoQZ3PL"
      }
    },
    {
      "cell_type": "code",
      "execution_count": null,
      "metadata": {
        "colab": {
          "base_uri": "https://localhost:8080/"
        },
        "id": "rV3K3w0tSso5",
        "outputId": "15f1a220-2562-4538-9127-e92ca8899353"
      },
      "outputs": [
        {
          "output_type": "execute_result",
          "data": {
            "text/plain": [
              "1.0"
            ]
          },
          "metadata": {},
          "execution_count": 3
        }
      ],
      "source": [
        "# Example\n",
        "\n",
        "3 + 2\n",
        "\n",
        "# Operators can also be combined\n",
        "\n",
        "(3 + 5) / (4 * 2)\n",
        "\n",
        "# But we don't need Python for that…"
      ]
    },
    {
      "cell_type": "markdown",
      "source": [
        "## Objects\n",
        "\n",
        "Similar to R, Python also allows to store information in objects.\n",
        "While the assignment operator for R is `<-`, it is `=` for Python (note that you could also use `=` in R, but it's not popular).\n",
        "To display the value of a variable, you use the `print()` function."
      ],
      "metadata": {
        "id": "pOA41imob2hE"
      }
    },
    {
      "cell_type": "code",
      "source": [
        "result_1 = 3 + 5\n",
        "\n",
        "print(result_1)\n",
        "\n",
        "result_2 = 4 * 2\n",
        "\n",
        "print(result_2)"
      ],
      "metadata": {
        "colab": {
          "base_uri": "https://localhost:8080/"
        },
        "id": "Ngg9WFDvcE2T",
        "outputId": "28115295-fe8d-4cf4-82e4-01c3bec885b2"
      },
      "execution_count": null,
      "outputs": [
        {
          "output_type": "stream",
          "name": "stdout",
          "text": [
            "8\n",
            "8\n"
          ]
        }
      ]
    },
    {
      "cell_type": "markdown",
      "source": [
        "Similar to R, these objects can be recalled:"
      ],
      "metadata": {
        "id": "OGd9wMLYcNCL"
      }
    },
    {
      "cell_type": "code",
      "source": [
        "result_3 = result_1 / result_2\n",
        "\n",
        "print(result_3)"
      ],
      "metadata": {
        "colab": {
          "base_uri": "https://localhost:8080/"
        },
        "id": "wq6E0vflcU76",
        "outputId": "d5ae5f82-635f-411a-ea31-b1c2abb31239"
      },
      "execution_count": null,
      "outputs": [
        {
          "output_type": "stream",
          "name": "stdout",
          "text": [
            "1.0\n"
          ]
        }
      ]
    },
    {
      "cell_type": "markdown",
      "source": [
        "## Logical operators\n",
        "\n",
        "The logical operators work the same in R and Python:"
      ],
      "metadata": {
        "id": "PiDeAXh9cUhL"
      }
    },
    {
      "cell_type": "code",
      "source": [
        "result_1 == result_2\n",
        "\n",
        "result_1 == result_3\n",
        "\n",
        "result_1 != result_3\n",
        "\n",
        "result_1 > result_3"
      ],
      "metadata": {
        "colab": {
          "base_uri": "https://localhost:8080/"
        },
        "id": "nk39tbv0c4mr",
        "outputId": "9e45000f-bd27-4fd5-ed61-7b3f11e96600"
      },
      "execution_count": null,
      "outputs": [
        {
          "output_type": "execute_result",
          "data": {
            "text/plain": [
              "True"
            ]
          },
          "metadata": {},
          "execution_count": 6
        }
      ]
    },
    {
      "cell_type": "markdown",
      "source": [
        "Operators can, again, be combined. However, `&` in R is equivalent to `and` in Python, while `|` in R is equivalent to `or` in Python:"
      ],
      "metadata": {
        "id": "PwnWj3okdf57"
      }
    },
    {
      "cell_type": "code",
      "source": [
        "8 == 8 and 8 > 1  # Both statements must be true\n",
        "\n",
        "8 == 8 and 8 == 1\n",
        "\n",
        "8 == 8 or 8 == 1  # Only one statement needs to be true\n",
        "\n",
        "8 != 8 or 8 == 1"
      ],
      "metadata": {
        "colab": {
          "base_uri": "https://localhost:8080/"
        },
        "id": "yvB06E_Jdi8s",
        "outputId": "0234b095-26c0-4acc-9c85-dbda51e11370"
      },
      "execution_count": null,
      "outputs": [
        {
          "output_type": "execute_result",
          "data": {
            "text/plain": [
              "False"
            ]
          },
          "metadata": {},
          "execution_count": 7
        }
      ]
    },
    {
      "cell_type": "markdown",
      "source": [
        "## Libraries\n",
        "\n",
        "R *packages* are called *libraries* in Python. To install libraries in Python, use `pip install package_name` in the command line (this is, unfortunately, more complicated in Python than in R). The libraries are always installed in a specific *working environment* that you need to define beforehand.\n",
        "\n",
        "In contrast to R, Python is programming language that was not primarily designed for data analysis. Thus, to perform many of the functions that are already included in base R, we need to import libraries such as `NumPy` or `pandas` for many data preparation exercises.\n",
        "\n",
        "To import the packages in Python, use `import package_name` (this is again relateively easy). Forunately, several very comman libraries, such as NumPy or Pandas, come preinstalled, so you just have to import them."
      ],
      "metadata": {
        "id": "HLTwmer4_rLh"
      }
    },
    {
      "cell_type": "code",
      "source": [
        "# Import the package (done every session)\n",
        "import pandas as pd\n",
        "\n",
        "# To use pandas functions\n",
        "df = pd.DataFrame({'A': [1, 2, 3], 'B': [4, 5, 6]})\n",
        "print(df)"
      ],
      "metadata": {
        "colab": {
          "base_uri": "https://localhost:8080/"
        },
        "id": "vFIyi8cFRf4t",
        "outputId": "86dc2aa4-7833-4e9d-8dcd-001c68dc30ad"
      },
      "execution_count": null,
      "outputs": [
        {
          "output_type": "stream",
          "name": "stdout",
          "text": [
            "   A  B\n",
            "0  1  4\n",
            "1  2  5\n",
            "2  3  6\n"
          ]
        }
      ]
    },
    {
      "cell_type": "markdown",
      "source": [
        "## Vectors\n",
        "\n",
        "To use vectors, we need to load the NumPy library.\n"
      ],
      "metadata": {
        "id": "yHxI4eerdwWC"
      }
    },
    {
      "cell_type": "code",
      "source": [
        "import numpy as np\n",
        "\n",
        "variable_num = np.array([8, 8, 1])\n",
        "\n",
        "print(variable_num)"
      ],
      "metadata": {
        "id": "_ZR5hcnYeS1h",
        "colab": {
          "base_uri": "https://localhost:8080/"
        },
        "outputId": "325591f4-ca02-4a59-ebc7-7cc908cfb39f"
      },
      "execution_count": null,
      "outputs": [
        {
          "output_type": "stream",
          "name": "stdout",
          "text": [
            "[8 8 1]\n"
          ]
        }
      ]
    },
    {
      "cell_type": "markdown",
      "source": [
        "You can also store strings with Python (or rather: a list of strings):"
      ],
      "metadata": {
        "id": "hcjlqDoheif3"
      }
    },
    {
      "cell_type": "code",
      "source": [
        "variable_char = [\"a\", \"b\", \"c\"]\n",
        "\n",
        "print(variable_char)"
      ],
      "metadata": {
        "id": "9V1CGC12eiOe",
        "colab": {
          "base_uri": "https://localhost:8080/"
        },
        "outputId": "3dbfabfc-41b8-4b8f-f7fe-cb230d1c916b"
      },
      "execution_count": null,
      "outputs": [
        {
          "output_type": "stream",
          "name": "stdout",
          "text": [
            "['a', 'b', 'c']\n"
          ]
        }
      ]
    },
    {
      "cell_type": "markdown",
      "source": [
        "To combine the numerical objects we created before, we again use NumPy:"
      ],
      "metadata": {
        "id": "xcXUW4Q4eh-A"
      }
    },
    {
      "cell_type": "code",
      "source": [
        "variable_num = np.array([result_1, result_2, result_3])\n",
        "\n",
        "print(variable_num)"
      ],
      "metadata": {
        "colab": {
          "base_uri": "https://localhost:8080/"
        },
        "id": "FRFBcflvethQ",
        "outputId": "7fd0ed4e-7f4c-49b5-8535-40f42be538f7"
      },
      "execution_count": null,
      "outputs": [
        {
          "output_type": "stream",
          "name": "stdout",
          "text": [
            "[8. 8. 1.]\n"
          ]
        }
      ]
    },
    {
      "cell_type": "markdown",
      "source": [
        "## Accessing elements in the list\n",
        "\n",
        "Similar to R, we also use `[]` to recall a certain value of `variable_num`. However, while indexing in R starts with the value 1, Python uses 0-based indexing (like most programming languages)."
      ],
      "metadata": {
        "id": "ml-2rGBieySf"
      }
    },
    {
      "cell_type": "code",
      "source": [
        "variable_num[0]  # equivalent to variable_num[1] in R\n",
        "variable_num[1]  # equivalent to variable_num[2] in R\n",
        "variable_num[2]  # equivalent to variable_num[3] in R\n",
        "\n",
        "# Side note: Nested indexing is a bit tricky in Python. To achieve something similar in Python, we would need to use:\n",
        "nested_index = variable_num[int(variable_num[2])]\n",
        "print(nested_index)"
      ],
      "metadata": {
        "colab": {
          "base_uri": "https://localhost:8080/"
        },
        "id": "FDijWZYifE4p",
        "outputId": "193ef1a1-975a-4629-e800-764ae9ab756c"
      },
      "execution_count": null,
      "outputs": [
        {
          "output_type": "stream",
          "name": "stdout",
          "text": [
            "8.0\n"
          ]
        }
      ]
    },
    {
      "cell_type": "markdown",
      "source": [
        "## Important types of variables in Python\n",
        "\n",
        "- Logical: Binary variable with values `True` and `False`\n",
        "- Character (string): Text (including symbols and numbers that are treated as text)\n",
        "- Numeric: Numbers for mathematical operations (integers (`int`) and floating-point numbers (`float`))\n",
        "- Factor: Typically a categorical data type in libraries like `pandas`.\n",
        "- `NA` in R is `None` in Python, or `np.nan` with `NumPy`.\n"
      ],
      "metadata": {
        "id": "2NmU1cx0fVhP"
      }
    },
    {
      "cell_type": "code",
      "source": [
        "# Examples\n",
        "\n",
        "# Logical\n",
        "type(True)  # equivalent to class(TRUE) in R\n",
        "\n",
        "# Character (String)\n",
        "type(\"this is 1 character\")  # equivalent to class(\"this is 1 character\") in R\n",
        "\n",
        "# Numeric\n",
        "type(123)  # equivalent to class(123) in R\n",
        "\n",
        "# Factor (Categorical)\n",
        "import pandas as pd\n",
        "category_example = pd.Categorical([\"first gen immigrant\", \"second gen immigrant\", \"native\"])\n",
        "type(category_example)  # equivalent to class(factor(...)) in R\n"
      ],
      "metadata": {
        "colab": {
          "base_uri": "https://localhost:8080/",
          "height": 203
        },
        "id": "-LC9p6_tgPN3",
        "outputId": "4dfc1b57-2d0c-4cf5-c75e-47f4191a0190"
      },
      "execution_count": null,
      "outputs": [
        {
          "output_type": "execute_result",
          "data": {
            "text/plain": [
              "pandas.core.arrays.categorical.Categorical"
            ],
            "text/html": [
              "<div style=\"max-width:800px; border: 1px solid var(--colab-border-color);\"><style>\n",
              "      pre.function-repr-contents {\n",
              "        overflow-x: auto;\n",
              "        padding: 8px 12px;\n",
              "        max-height: 500px;\n",
              "      }\n",
              "\n",
              "      pre.function-repr-contents.function-repr-contents-collapsed {\n",
              "        cursor: pointer;\n",
              "        max-height: 100px;\n",
              "      }\n",
              "    </style>\n",
              "    <pre style=\"white-space: initial; background:\n",
              "         var(--colab-secondary-surface-color); padding: 8px 12px;\n",
              "         border-bottom: 1px solid var(--colab-border-color);\"><b>pandas.core.arrays.categorical.Categorical</b><br/>def __init__(values, categories=None, ordered=None, dtype: Dtype | None=None, fastpath: bool | lib.NoDefault=lib.no_default, copy: bool=True) -&gt; None</pre><pre class=\"function-repr-contents function-repr-contents-collapsed\" style=\"\"><a class=\"filepath\" style=\"display:none\" href=\"#\">/usr/local/lib/python3.10/dist-packages/pandas/core/arrays/categorical.py</a>Represent a categorical variable in classic R / S-plus fashion.\n",
              "\n",
              "`Categoricals` can only take on a limited, and usually fixed, number\n",
              "of possible values (`categories`). In contrast to statistical categorical\n",
              "variables, a `Categorical` might have an order, but numerical operations\n",
              "(additions, divisions, ...) are not possible.\n",
              "\n",
              "All values of the `Categorical` are either in `categories` or `np.nan`.\n",
              "Assigning values outside of `categories` will raise a `ValueError`. Order\n",
              "is defined by the order of the `categories`, not lexical order of the\n",
              "values.\n",
              "\n",
              "Parameters\n",
              "----------\n",
              "values : list-like\n",
              "    The values of the categorical. If categories are given, values not in\n",
              "    categories will be replaced with NaN.\n",
              "categories : Index-like (unique), optional\n",
              "    The unique categories for this categorical. If not given, the\n",
              "    categories are assumed to be the unique values of `values` (sorted, if\n",
              "    possible, otherwise in the order in which they appear).\n",
              "ordered : bool, default False\n",
              "    Whether or not this categorical is treated as a ordered categorical.\n",
              "    If True, the resulting categorical will be ordered.\n",
              "    An ordered categorical respects, when sorted, the order of its\n",
              "    `categories` attribute (which in turn is the `categories` argument, if\n",
              "    provided).\n",
              "dtype : CategoricalDtype\n",
              "    An instance of ``CategoricalDtype`` to use for this categorical.\n",
              "\n",
              "Attributes\n",
              "----------\n",
              "categories : Index\n",
              "    The categories of this categorical.\n",
              "codes : ndarray\n",
              "    The codes (integer positions, which point to the categories) of this\n",
              "    categorical, read only.\n",
              "ordered : bool\n",
              "    Whether or not this Categorical is ordered.\n",
              "dtype : CategoricalDtype\n",
              "    The instance of ``CategoricalDtype`` storing the ``categories``\n",
              "    and ``ordered``.\n",
              "\n",
              "Methods\n",
              "-------\n",
              "from_codes\n",
              "__array__\n",
              "\n",
              "Raises\n",
              "------\n",
              "ValueError\n",
              "    If the categories do not validate.\n",
              "TypeError\n",
              "    If an explicit ``ordered=True`` is given but no `categories` and the\n",
              "    `values` are not sortable.\n",
              "\n",
              "See Also\n",
              "--------\n",
              "CategoricalDtype : Type for categorical data.\n",
              "CategoricalIndex : An Index with an underlying ``Categorical``.\n",
              "\n",
              "Notes\n",
              "-----\n",
              "See the `user guide\n",
              "&lt;https://pandas.pydata.org/pandas-docs/stable/user_guide/categorical.html&gt;`__\n",
              "for more.\n",
              "\n",
              "Examples\n",
              "--------\n",
              "&gt;&gt;&gt; pd.Categorical([1, 2, 3, 1, 2, 3])\n",
              "[1, 2, 3, 1, 2, 3]\n",
              "Categories (3, int64): [1, 2, 3]\n",
              "\n",
              "&gt;&gt;&gt; pd.Categorical([&#x27;a&#x27;, &#x27;b&#x27;, &#x27;c&#x27;, &#x27;a&#x27;, &#x27;b&#x27;, &#x27;c&#x27;])\n",
              "[&#x27;a&#x27;, &#x27;b&#x27;, &#x27;c&#x27;, &#x27;a&#x27;, &#x27;b&#x27;, &#x27;c&#x27;]\n",
              "Categories (3, object): [&#x27;a&#x27;, &#x27;b&#x27;, &#x27;c&#x27;]\n",
              "\n",
              "Missing values are not included as a category.\n",
              "\n",
              "&gt;&gt;&gt; c = pd.Categorical([1, 2, 3, 1, 2, 3, np.nan])\n",
              "&gt;&gt;&gt; c\n",
              "[1, 2, 3, 1, 2, 3, NaN]\n",
              "Categories (3, int64): [1, 2, 3]\n",
              "\n",
              "However, their presence is indicated in the `codes` attribute\n",
              "by code `-1`.\n",
              "\n",
              "&gt;&gt;&gt; c.codes\n",
              "array([ 0,  1,  2,  0,  1,  2, -1], dtype=int8)\n",
              "\n",
              "Ordered `Categoricals` can be sorted according to the custom order\n",
              "of the categories and can have a min and max value.\n",
              "\n",
              "&gt;&gt;&gt; c = pd.Categorical([&#x27;a&#x27;, &#x27;b&#x27;, &#x27;c&#x27;, &#x27;a&#x27;, &#x27;b&#x27;, &#x27;c&#x27;], ordered=True,\n",
              "...                    categories=[&#x27;c&#x27;, &#x27;b&#x27;, &#x27;a&#x27;])\n",
              "&gt;&gt;&gt; c\n",
              "[&#x27;a&#x27;, &#x27;b&#x27;, &#x27;c&#x27;, &#x27;a&#x27;, &#x27;b&#x27;, &#x27;c&#x27;]\n",
              "Categories (3, object): [&#x27;c&#x27; &lt; &#x27;b&#x27; &lt; &#x27;a&#x27;]\n",
              "&gt;&gt;&gt; c.min()\n",
              "&#x27;c&#x27;</pre>\n",
              "      <script>\n",
              "      if (google.colab.kernel.accessAllowed && google.colab.files && google.colab.files.view) {\n",
              "        for (const element of document.querySelectorAll('.filepath')) {\n",
              "          element.style.display = 'block'\n",
              "          element.onclick = (event) => {\n",
              "            event.preventDefault();\n",
              "            event.stopPropagation();\n",
              "            google.colab.files.view(element.textContent, 243);\n",
              "          };\n",
              "        }\n",
              "      }\n",
              "      for (const element of document.querySelectorAll('.function-repr-contents')) {\n",
              "        element.onclick = (event) => {\n",
              "          event.preventDefault();\n",
              "          event.stopPropagation();\n",
              "          element.classList.toggle('function-repr-contents-collapsed');\n",
              "        };\n",
              "      }\n",
              "      </script>\n",
              "      </div>"
            ]
          },
          "metadata": {},
          "execution_count": 14
        }
      ]
    },
    {
      "cell_type": "markdown",
      "source": [
        "## Data frames\n",
        "\n",
        "In Python, the equivalent concept of a data frame in R is also called a DataFrame, and it is provided by the `pandas` library."
      ],
      "metadata": {
        "id": "l4pfsRDPhOPl"
      }
    },
    {
      "cell_type": "code",
      "source": [
        "import pandas as pd\n",
        "import numpy as np\n",
        "\n",
        "# Generate toy variables\n",
        "\n",
        "# IDs\n",
        "id = np.arange(1, 11)\n",
        "\n",
        "# Set seed for reproducibility\n",
        "np.random.seed(1608)\n",
        "\n",
        "# Generate income variable\n",
        "income = np.round(np.random.uniform(low=42192-10000, high=42192+10000, size=10))\n",
        "\n",
        "# Generate migrant status variable\n",
        "migrant = np.where(np.round(np.random.uniform(low=0, high=1, size=10)) == 0, \"immigrant\", \"native\")\n",
        "\n",
        "# Generate birth year variable\n",
        "birthyear = np.round(np.random.uniform(low=1960, high=2000, size=10))\n",
        "\n",
        "# Combine into a data frame\n",
        "toy_data = pd.DataFrame({\n",
        "    'id': id,\n",
        "    'income': income,\n",
        "    'migrant': migrant,\n",
        "    'birthyear': birthyear\n",
        "})\n",
        "\n",
        "# Display the data frame\n",
        "print(toy_data)"
      ],
      "metadata": {
        "colab": {
          "base_uri": "https://localhost:8080/"
        },
        "id": "A4i5Hpf3hN4k",
        "outputId": "756f1e44-cc44-40ba-becd-8a032c933466"
      },
      "execution_count": null,
      "outputs": [
        {
          "output_type": "stream",
          "name": "stdout",
          "text": [
            "   id   income    migrant  birthyear\n",
            "0   1  37954.0     native     1978.0\n",
            "1   2  46874.0  immigrant     1973.0\n",
            "2   3  45180.0     native     1984.0\n",
            "3   4  51873.0  immigrant     1999.0\n",
            "4   5  50384.0  immigrant     1967.0\n",
            "5   6  49760.0  immigrant     1970.0\n",
            "6   7  46691.0  immigrant     1968.0\n",
            "7   8  41815.0  immigrant     1961.0\n",
            "8   9  47886.0     native     1971.0\n",
            "9  10  46528.0     native     1968.0\n"
          ]
        }
      ]
    },
    {
      "cell_type": "markdown",
      "source": [
        "\n",
        "To access a specific column in a DataFrame in Python (like `toy_data$migrant` in R) works the following way:"
      ],
      "metadata": {
        "id": "FENcJ9D1LlCb"
      }
    },
    {
      "cell_type": "code",
      "source": [
        "toy_data['migrant']\n",
        "\n",
        "# Actually show the result:\n",
        "print(toy_data['migrant'])\n",
        "\n",
        "# Alternatively:\n",
        "toy_data.migrant"
      ],
      "metadata": {
        "colab": {
          "base_uri": "https://localhost:8080/",
          "height": 588
        },
        "id": "6nU50zc408QF",
        "outputId": "dc02ec9a-8abe-40cf-a343-891ecd4f2efd"
      },
      "execution_count": null,
      "outputs": [
        {
          "output_type": "stream",
          "name": "stdout",
          "text": [
            "0       native\n",
            "1    immigrant\n",
            "2       native\n",
            "3    immigrant\n",
            "4    immigrant\n",
            "5    immigrant\n",
            "6    immigrant\n",
            "7    immigrant\n",
            "8       native\n",
            "9       native\n",
            "Name: migrant, dtype: object\n"
          ]
        },
        {
          "output_type": "execute_result",
          "data": {
            "text/plain": [
              "0       native\n",
              "1    immigrant\n",
              "2       native\n",
              "3    immigrant\n",
              "4    immigrant\n",
              "5    immigrant\n",
              "6    immigrant\n",
              "7    immigrant\n",
              "8       native\n",
              "9       native\n",
              "Name: migrant, dtype: object"
            ],
            "text/html": [
              "<div>\n",
              "<style scoped>\n",
              "    .dataframe tbody tr th:only-of-type {\n",
              "        vertical-align: middle;\n",
              "    }\n",
              "\n",
              "    .dataframe tbody tr th {\n",
              "        vertical-align: top;\n",
              "    }\n",
              "\n",
              "    .dataframe thead th {\n",
              "        text-align: right;\n",
              "    }\n",
              "</style>\n",
              "<table border=\"1\" class=\"dataframe\">\n",
              "  <thead>\n",
              "    <tr style=\"text-align: right;\">\n",
              "      <th></th>\n",
              "      <th>migrant</th>\n",
              "    </tr>\n",
              "  </thead>\n",
              "  <tbody>\n",
              "    <tr>\n",
              "      <th>0</th>\n",
              "      <td>native</td>\n",
              "    </tr>\n",
              "    <tr>\n",
              "      <th>1</th>\n",
              "      <td>immigrant</td>\n",
              "    </tr>\n",
              "    <tr>\n",
              "      <th>2</th>\n",
              "      <td>native</td>\n",
              "    </tr>\n",
              "    <tr>\n",
              "      <th>3</th>\n",
              "      <td>immigrant</td>\n",
              "    </tr>\n",
              "    <tr>\n",
              "      <th>4</th>\n",
              "      <td>immigrant</td>\n",
              "    </tr>\n",
              "    <tr>\n",
              "      <th>5</th>\n",
              "      <td>immigrant</td>\n",
              "    </tr>\n",
              "    <tr>\n",
              "      <th>6</th>\n",
              "      <td>immigrant</td>\n",
              "    </tr>\n",
              "    <tr>\n",
              "      <th>7</th>\n",
              "      <td>immigrant</td>\n",
              "    </tr>\n",
              "    <tr>\n",
              "      <th>8</th>\n",
              "      <td>native</td>\n",
              "    </tr>\n",
              "    <tr>\n",
              "      <th>9</th>\n",
              "      <td>native</td>\n",
              "    </tr>\n",
              "  </tbody>\n",
              "</table>\n",
              "</div><br><label><b>dtype:</b> object</label>"
            ]
          },
          "metadata": {},
          "execution_count": 17
        }
      ]
    },
    {
      "cell_type": "markdown",
      "source": [
        "To get a table with the numbers of each category, we will display the counts of \"immigrant\" and \"native\" in the migrant column of the toy_data DataFrame:"
      ],
      "metadata": {
        "id": "8WjSE0qv1LAd"
      }
    },
    {
      "cell_type": "code",
      "source": [
        "toy_data['migrant'].value_counts()"
      ],
      "metadata": {
        "colab": {
          "base_uri": "https://localhost:8080/",
          "height": 178
        },
        "id": "MAxJu8OT1MFM",
        "outputId": "af84c32b-8be8-466a-8368-671755f70c3f"
      },
      "execution_count": null,
      "outputs": [
        {
          "output_type": "execute_result",
          "data": {
            "text/plain": [
              "migrant\n",
              "immigrant    6\n",
              "native       4\n",
              "Name: count, dtype: int64"
            ],
            "text/html": [
              "<div>\n",
              "<style scoped>\n",
              "    .dataframe tbody tr th:only-of-type {\n",
              "        vertical-align: middle;\n",
              "    }\n",
              "\n",
              "    .dataframe tbody tr th {\n",
              "        vertical-align: top;\n",
              "    }\n",
              "\n",
              "    .dataframe thead th {\n",
              "        text-align: right;\n",
              "    }\n",
              "</style>\n",
              "<table border=\"1\" class=\"dataframe\">\n",
              "  <thead>\n",
              "    <tr style=\"text-align: right;\">\n",
              "      <th></th>\n",
              "      <th>count</th>\n",
              "    </tr>\n",
              "    <tr>\n",
              "      <th>migrant</th>\n",
              "      <th></th>\n",
              "    </tr>\n",
              "  </thead>\n",
              "  <tbody>\n",
              "    <tr>\n",
              "      <th>immigrant</th>\n",
              "      <td>6</td>\n",
              "    </tr>\n",
              "    <tr>\n",
              "      <th>native</th>\n",
              "      <td>4</td>\n",
              "    </tr>\n",
              "  </tbody>\n",
              "</table>\n",
              "</div><br><label><b>dtype:</b> int64</label>"
            ]
          },
          "metadata": {},
          "execution_count": 18
        }
      ]
    },
    {
      "cell_type": "markdown",
      "source": [
        "## Recoding variables\n",
        "\n",
        "How many observations have an income above the mean?\n",
        "\n"
      ],
      "metadata": {
        "id": "BPKa0BrH1SJ8"
      }
    },
    {
      "cell_type": "code",
      "source": [
        "import pandas as pd\n",
        "import numpy as np\n",
        "\n",
        "# 'income' is already numeric\n",
        "\n",
        "# Create a new variable 'inc_ab_mean' that indicates whether the income is above the mean\n",
        "toy_data['inc_ab_mean'] = toy_data['income'] >= toy_data['income'].mean()\n",
        "\n",
        "# Display the updated DataFrame\n",
        "print(toy_data)"
      ],
      "metadata": {
        "colab": {
          "base_uri": "https://localhost:8080/"
        },
        "id": "tEZaVLPa1uFj",
        "outputId": "7ef951b5-6586-44bd-8a4d-a4891d1b1958"
      },
      "execution_count": null,
      "outputs": [
        {
          "output_type": "stream",
          "name": "stdout",
          "text": [
            "   id   income    migrant  birthyear  inc_ab_mean\n",
            "0   1  37954.0     native     1978.0        False\n",
            "1   2  46874.0  immigrant     1973.0         True\n",
            "2   3  45180.0     native     1984.0        False\n",
            "3   4  51873.0  immigrant     1999.0         True\n",
            "4   5  50384.0  immigrant     1967.0         True\n",
            "5   6  49760.0  immigrant     1970.0         True\n",
            "6   7  46691.0  immigrant     1968.0         True\n",
            "7   8  41815.0  immigrant     1961.0        False\n",
            "8   9  47886.0     native     1971.0         True\n",
            "9  10  46528.0     native     1968.0         True\n"
          ]
        }
      ]
    },
    {
      "cell_type": "markdown",
      "source": [
        "## Indexing\n",
        "\n",
        "In Python, using the pandas library, we can index data in a DataFrame similarly to R, but with some differences in the syntax:\n",
        "\n",
        "- Use `iloc[row_index, column_index]` to access elements by their position\n",
        "- Both rows and columns start from 0 in Python"
      ],
      "metadata": {
        "id": "8cTcfzyx4Aq7"
      }
    },
    {
      "cell_type": "code",
      "source": [
        "# From our toy data\n",
        "\n",
        "# All values of first \"respondent\"\n",
        "print(toy_data.iloc[0, :])\n",
        "\n",
        "# All values of first variable (ID)\n",
        "print(toy_data.iloc[:, 0])"
      ],
      "metadata": {
        "colab": {
          "base_uri": "https://localhost:8080/"
        },
        "id": "0D57s_rj4AHI",
        "outputId": "87d9101a-5324-4c19-b681-e22a1f662dac"
      },
      "execution_count": null,
      "outputs": [
        {
          "output_type": "stream",
          "name": "stdout",
          "text": [
            "id                   1\n",
            "income         37954.0\n",
            "migrant         native\n",
            "birthyear       1978.0\n",
            "inc_ab_mean      False\n",
            "Name: 0, dtype: object\n",
            "0     1\n",
            "1     2\n",
            "2     3\n",
            "3     4\n",
            "4     5\n",
            "5     6\n",
            "6     7\n",
            "7     8\n",
            "8     9\n",
            "9    10\n",
            "Name: id, dtype: int64\n"
          ]
        }
      ]
    },
    {
      "cell_type": "markdown",
      "source": [
        "## Subsetting data\n",
        "\n",
        "Subsetting the data in Python works like this:\n"
      ],
      "metadata": {
        "id": "DpWzITb26YWx"
      }
    },
    {
      "cell_type": "code",
      "source": [
        "# Only keeping variables migrant status and yearly income in the data set:\n",
        "variables = [\"migrant\", \"income\"]\n",
        "\n",
        "toy_data_sub_var = toy_data[variables]\n",
        "\n",
        "print(toy_data_sub_var)\n",
        "\n",
        "# Only keeping the first five observations\n",
        "toy_data_sub_obs = toy_data.iloc[0:5, :]\n",
        "\n",
        "print(toy_data_sub_obs)"
      ],
      "metadata": {
        "colab": {
          "base_uri": "https://localhost:8080/"
        },
        "id": "MoSvwwFQ6X8K",
        "outputId": "8d238693-1f3e-43e9-e5a6-35f1b1c281cf"
      },
      "execution_count": null,
      "outputs": [
        {
          "output_type": "stream",
          "name": "stdout",
          "text": [
            "     migrant   income\n",
            "0     native  37954.0\n",
            "1  immigrant  46874.0\n",
            "2     native  45180.0\n",
            "3  immigrant  51873.0\n",
            "4  immigrant  50384.0\n",
            "5  immigrant  49760.0\n",
            "6  immigrant  46691.0\n",
            "7  immigrant  41815.0\n",
            "8     native  47886.0\n",
            "9     native  46528.0\n",
            "   id   income    migrant  birthyear  inc_ab_mean\n",
            "0   1  37954.0     native     1978.0        False\n",
            "1   2  46874.0  immigrant     1973.0         True\n",
            "2   3  45180.0     native     1984.0        False\n",
            "3   4  51873.0  immigrant     1999.0         True\n",
            "4   5  50384.0  immigrant     1967.0         True\n"
          ]
        }
      ]
    },
    {
      "cell_type": "markdown",
      "source": [
        "## Functions\n",
        "\n",
        "To replicate the R functions provided in the other colab, we can use the following code:"
      ],
      "metadata": {
        "id": "wQcitoPb-hRp"
      }
    },
    {
      "cell_type": "code",
      "source": [
        "# Examples\n",
        "\n",
        "# Mean income\n",
        "mean_income = toy_data['income'].mean()\n",
        "print(mean_income)\n",
        "\n",
        "# Range of income\n",
        "income_range = (toy_data['income'].min(), toy_data['income'].max())\n",
        "print(income_range)\n",
        "\n",
        "# Test for mean differences in income between immigrants and natives\n",
        "from scipy import stats\n",
        "\n",
        "# Subset the income data based on migrant status\n",
        "income_immigrant = toy_data[toy_data['migrant'] == 'immigrant']['income']\n",
        "income_native = toy_data[toy_data['migrant'] == 'native']['income']\n",
        "\n",
        "# Perform the t-test\n",
        "t_stat, p_value = stats.ttest_ind(income_immigrant, income_native, equal_var=False)\n",
        "\n",
        "print(f\"T-statistic: {t_stat}, P-value: {p_value}\")"
      ],
      "metadata": {
        "colab": {
          "base_uri": "https://localhost:8080/"
        },
        "id": "fXxtNpbj-z4Y",
        "outputId": "02ba2946-b7bf-4240-e256-9c0b61807af9"
      },
      "execution_count": null,
      "outputs": [
        {
          "output_type": "stream",
          "name": "stdout",
          "text": [
            "46494.5\n",
            "(37954.0, 51873.0)\n",
            "T-statistic: 1.321154185835615, P-value: 0.23802261332367058\n"
          ]
        }
      ]
    },
    {
      "cell_type": "markdown",
      "source": [
        "## Tidyverse\n",
        "\n",
        "Unfortunately, no equivalent in Python available (afaik). ☹"
      ],
      "metadata": {
        "id": "LyXA53KqAbXA"
      }
    }
  ]
}